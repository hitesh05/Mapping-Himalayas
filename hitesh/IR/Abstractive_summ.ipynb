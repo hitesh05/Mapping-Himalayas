{
 "cells": [
  {
   "cell_type": "code",
   "execution_count": 39,
   "metadata": {},
   "outputs": [],
   "source": [
    "# Open text file and extract text\n",
    "path = '/home/hitesh/Documents/IIIT-H/Honours 2/IR/text_files/1810 Survey for Discovering Sources of the Ganges by Raper from ARv11 s.txt'\n",
    "with open(path, 'r') as file:\n",
    "    text = file.read()"
   ]
  },
  {
   "cell_type": "code",
   "execution_count": 40,
   "metadata": {},
   "outputs": [],
   "source": [
    "import re\n",
    "class Tokeniser():\n",
    "    def __init__(self):\n",
    "        pass\n",
    "    \n",
    "    def convert_text_to_string(self):\n",
    "        self.text = '\\n'.join(self.text)\n",
    "        self.text = re.sub(r'\\n+', r' ', self.text)\n",
    "    \n",
    "    def lower_case(self):\n",
    "        self.text = self.text.lower()\n",
    "    \n",
    "    def change_urls(self):\n",
    "        self.text = re.sub(r'http[s]?\\S*[\\s | \\n]', r'<URL>', self.text) # changing urls\n",
    "        \n",
    "    def change_hashtags(self):\n",
    "        self.text = re.sub(r'\\b#\\w*[a-z0-9]+\\w*', r'<HASHTAG>', self.text) # changing hashtags\n",
    "        \n",
    "    def change_mentions(self):\n",
    "        self.text = re.sub(r'@(\\w+)', r'<MENTION>', self.text) # changing mentions\n",
    "        \n",
    "    def change_nums(self):\n",
    "        self.text = re.sub(r'\\d+', r'<NUM>', self.text)\n",
    "    \n",
    "    def remove_punctuations(self):\n",
    "        self.text = re.sub(r'[^\\w+^\\.^\\?^\\!\\s]', r'', self.text)\n",
    "        return self.text\n",
    "        \n",
    "    def handle_special_cases(self):\n",
    "        self.text = re.sub(r'(\\w+)\\'bout', r'\\1 about', self.text)\n",
    "        self.text=re.sub(r\"won\\'t\",\"will not\",self.text)\n",
    "        self.text = re.sub(r'(\\w+)\\'t', r'\\1 not', self.text)\n",
    "        self.text = re.sub(r'(\\w+)\\'s', r'\\1 is', self.text)\n",
    "        self.text = re.sub(r'(\\w+)\\'re', r'\\1 are', self.text)\n",
    "        self.text = re.sub(r'(\\w+)\\'ll', r'\\1 will', self.text)\n",
    "        self.text = re.sub(r'(\\w+)\\'d', r'\\1 would', self.text)\n",
    "        self.text = re.sub(r'(\\w+)\\'ve', r'\\1 have', self.text)\n",
    "        self.text = re.sub(r'([iI])\\'m', r'\\1 am', self.text)\n",
    "        \n",
    "    def remove_stupid_fullstop(self):\n",
    "        self.text=re.sub(\"Mr\\s*\\.\",\"Mr\",self.text)\n",
    "        self.text=re.sub(\"Ms\\s*\\.\",\"Ms\",self.text)\n",
    "        self.text=re.sub(\"Mrs\\s*\\.\",\"Mrs\",self.text)\n",
    "        self.text=re.sub(\"Miss\\s*\\.\",\"Miss\",self.text)\n",
    "        \n",
    "    def remove_extra_spaces(self):\n",
    "        self.text = re.sub(' +', ' ', self.text)\n",
    "        \n",
    "    def split_into_sentences(self):\n",
    "        self.text = re.split('\\w*\\. | \\w*\\?', self.text)\n",
    "        \n",
    "    def remove_empty_chars(self):\n",
    "        for i in self.text:\n",
    "            if i == '':\n",
    "                self.text.remove(i)\n",
    "        \n",
    "    def tokenise(self):\n",
    "        # self.convert_text_to_string()\n",
    "        # self.remove_stupid_fullstop()\n",
    "        self.lower_case()\n",
    "        # self.change_urls()\n",
    "        # self.change_hashtags()\n",
    "        # self.change_mentions()\n",
    "        # self.change_nums()\n",
    "    \n",
    "    def modify_text(self, text):\n",
    "        self.text = text\n",
    "        self.tokenise()\n",
    "        self.remove_punctuations()\n",
    "        # self.handle_special_cases()\n",
    "        # self.remove_extra_spaces()\n",
    "        # self.split_into_sentences()\n",
    "        self.remove_empty_chars()\n",
    "        return self.text"
   ]
  },
  {
   "cell_type": "code",
   "execution_count": 41,
   "metadata": {},
   "outputs": [],
   "source": [
    "tokeniser = Tokeniser()\n",
    "text =  tokeniser.modify_text(text)\n",
    "text = text.split(' ')"
   ]
  },
  {
   "cell_type": "code",
   "execution_count": 42,
   "metadata": {},
   "outputs": [
    {
     "name": "stdout",
     "output_type": "stream",
     "text": [
      "['narrative']\n",
      "['of']\n",
      "['a']\n",
      "['survey']\n",
      "['for']\n",
      "['the']\n",
      "['purpose']\n",
      "['of']\n",
      "['discovering']\n",
      "['i']\n"
     ]
    }
   ],
   "source": [
    "count = 0\n",
    "for i in text:\n",
    "    i = i.split(' ')\n",
    "    print(i)\n",
    "    count += 1\n",
    "    if count == 10:\n",
    "        break"
   ]
  },
  {
   "cell_type": "code",
   "execution_count": 43,
   "metadata": {},
   "outputs": [
    {
     "ename": "ValueError",
     "evalue": "too many values to unpack (expected 2)",
     "output_type": "error",
     "traceback": [
      "\u001b[0;31m---------------------------------------------------------------------------\u001b[0m",
      "\u001b[0;31mValueError\u001b[0m                                Traceback (most recent call last)",
      "\u001b[0;32m<ipython-input-43-38e9cda01585>\u001b[0m in \u001b[0;36m<module>\u001b[0;34m\u001b[0m\n\u001b[1;32m      1\u001b[0m \u001b[0ms\u001b[0m \u001b[0;34m=\u001b[0m \u001b[0;34m'europe'\u001b[0m\u001b[0;34m\u001b[0m\u001b[0;34m\u001b[0m\u001b[0m\n\u001b[0;32m----> 2\u001b[0;31m \u001b[0;32mfor\u001b[0m \u001b[0mind\u001b[0m\u001b[0;34m,\u001b[0m \u001b[0mword\u001b[0m \u001b[0;32min\u001b[0m \u001b[0mtext\u001b[0m\u001b[0;34m:\u001b[0m\u001b[0;34m\u001b[0m\u001b[0;34m\u001b[0m\u001b[0m\n\u001b[0m\u001b[1;32m      3\u001b[0m     \u001b[0;32mif\u001b[0m \u001b[0mword\u001b[0m\u001b[0;34m[\u001b[0m\u001b[0;34m:\u001b[0m\u001b[0;36m6\u001b[0m\u001b[0;34m]\u001b[0m \u001b[0;34m==\u001b[0m \u001b[0ms\u001b[0m\u001b[0;34m:\u001b[0m\u001b[0;34m\u001b[0m\u001b[0;34m\u001b[0m\u001b[0m\n\u001b[1;32m      4\u001b[0m         \u001b[0mprint\u001b[0m\u001b[0;34m(\u001b[0m\u001b[0mword\u001b[0m\u001b[0;34m)\u001b[0m\u001b[0;34m\u001b[0m\u001b[0;34m\u001b[0m\u001b[0m\n",
      "\u001b[0;31mValueError\u001b[0m: too many values to unpack (expected 2)"
     ]
    }
   ],
   "source": [
    "s = 'europe'\n",
    "for ind, word in text:\n",
    "    if word[:6] == s:\n",
    "        print(word)"
   ]
  },
  {
   "cell_type": "code",
   "execution_count": 44,
   "metadata": {},
   "outputs": [
    {
     "name": "stdout",
     "output_type": "stream",
     "text": [
      "4673 5073\n",
      "6084 6484\n",
      "6890 7290\n",
      "27184 27584\n",
      "33409 33809\n",
      "38960 39360\n"
     ]
    },
    {
     "data": {
      "text/plain": [
       "['fair. the chutra is a man about fortyfive or fop tysix years of age of middle stature and rather corpulent. his countenance is pleasing and his manners very conciliatory in his waist he wore a 1arg.e curved knife with a plain ebony handle the sheath mounted with gold. most of the chiefs about him were armed with weapons of the same ahape but mounted with silver. survey of tbe ganges. 46 1 on the following morning hasti dhal re turned our visit and the subject of our journey was again resumed. in the course of conversation he suggested that the route to gagotri by the way of srinagar would be very circuitous and could not be completed in less than a month and a half whereas by making gangotrf our first object we might return by srbugar in one month. by this arrangement we had the advantage of comprehend ing the whole circle of the places we wished to visit within the limits of a two months tour leaving us one month for the performance of the journey to bhadriadth. the chawtra staid but a sbrt time when he took his leave we presented him with a few articles of european minufacture with which he appeared highly gratified. the tenth of april being the purbf or last day of bathing the crowds of people were immense every avenue to the ghat was completely choaked up and the flight of steps leading to the water poured down from the top such a constant succession of fresh comers that the lower tiers were ugable to resist the impetus and were involuntarily hurried into the stream. the fair however concluded without any troubles or disturbance to the great surprise and satisfaction of numbers who were accustomed to consider bloodshed and murder in separable from the cumbha mdla as for many ages past these duodecennial periods have been marked with some fatal catastrophe. a very salu tary regulation was enforced by our police prohi biting any weapons being worn or carried at the fair guards were posted at the different avenues to receive the arms of the passengers a ticket was placed on each and a corresponding one given to the owner the arms were returned on the ticket being produced. 462 survey of the ganges. this arrangement had the desired effect for the utmost tranquillity prevailed  and from the content and satisfaction',\n",
       " 'by registering our attendants to guard against their desertion. he took his leave with.many expressions of friendship. we made hiin some trifling presents at parting and separated under the most flattering assurances of his good will and desire to render us every assistance. 17th. marched to ndgal. . the first part of the road lay by the side of a beautiful little river which turns four or five water mills placed in the declivi ties of its bed. this machine for grinding corn is of very simple construction and is in general use in this part of the country it is composed of two large round stories about eighteen inches in diameter and four in thickness. the under onc is fixed and the upper one placed in a perpendicular axle at the lower extremity of which eight or ton spokes are thrown out horizontally on these the water is brought to des cend from a sufficient elevation to give the machine a quick rotatory motion. the banks of thisrivulet were lined with the wil low and the raspberry bush the fruit of which was ripe of a deep yellow with hardly flavour enough to call to recollection the fruit of europe. wheat and barley were produced in great abundance in the val lies which possess a feftile soil but the oppressive nature of the gurchdli government and the heavy exactions which it lays on the labou of the husband 1 man discourage cultivation. this pnganah of 1 dhqn lying between the ganges and junzna rivers which are here forty miles distant is said to have vol. xi. h y e  466 subvey of thb ganges. formerly yielded to the rajah of srinagar a lac of rupees annually  which revenue under the gurc hdle government is reduced to thirtyfive thousand. 18th. marched to mu ra. the distance is esti mated ten or eleven miles kr . e. by n. on this days march we crossed a mountain about two thousand feet high the ascent and descent of which were very steep and rugged. the mountain was in some places almost perpendicular and the foot path cut out into zigzags of about thirty feet in length. in other places it ran along a narrow ledge not more than a foot in breadth  while on the outer side was a precipice of six or seven hundred feet. a most alarming',\n",
       " 'when the petrifaction is complete the inside has a great resemblance to alabaster. the water is excessively cold and clear and from an examination of the first process one would be in clined to suppose it impregnated with some fine mi cous particles which adhere to the vegetable sub stance  and by degrees accurrulate into a solid body. we could with dificulty prevail on ounelva to quit this beautiful spot but as we had a long and ar duaus journey to complete before the evening we had only time to examine its principal beauties. it is called sansdr dharu or the dripping rock. on this days march we first saw the mountain pine called by the natives chk or khokin. 468 survey of the ganges. 19th. marched to bhhan ddvi a small village so called from a temple which it contains dedicated to a deity of that name. distance computed seven and an halfmiles about n. e. by n. we crossed another mountain .estimated at about one thousand and two hundred feet high. the thermometer in the morn ing was at 48a0 and on this mountain we were de lighted to recognize among its vegetable productions many of our european acquaintance as the peach apricot walnut strawberry raspberry dandelion butter flower and white rose. near the temple of bbhan ddvi stood a fine spreading fir of the species which the natives call deoddr. it yields a great quantity of pitch and the trunk acquires much larger dimensions than the chir. the wood is more solid and durable on which account it is more .prized by the natives for all purposes of building.the adja .cent hills were covered with forests of this tree. 20. marched to ldllari a very small village situated in latitude by observation 30 33 s thermometer in the morning 52. on the first part of the march the land on the road side was well cultivated and even the sides of the hills were cut into small plats rising one above the other faced with stones and watered by the small streams which issue from the heights and are con ducted form the upper to the lower platforms in suc cession. here we found the booranst and the ballju a species of oak. the mountairis are covered with immense forests of these trees. . until one oclock we had been gradually ascending when we came to',\n",
       " 'the town of mdnar is built in three divisions containing one hundred and fifty or two hundred houses and is more populous than any place we have met with of the same extent. the number of j ts inhabitants is computed at fourteen or fifteen hun dred people  who appear to be of a different race from 1 4  . . + 0  7 i   t . 396 i  survey of the ganges.  . the other mountaineers of gerwl. thefare above the middling size stout well formed and their . countenances partake more of the features of the turturs or bzitiiis from whom they they are most pmbably descended. thejr have broad faces smdl eyes and conplexion of a light olive colour. as soon as we entered the taws all the inhabit ants came out to welcome us  and we obsetved a greater display of female and juvenile beauty than we recollect to have seen in any indian village. the women were in general handsome and had a ruddiness in their complexions of which the chil dren in a very great degree  many uf the. approaching to the floridness of the european. the  dress of the two sexes differs little from each other  l that of the men consists in a. pair of trowers made of cammal or pancild with a loose sieeved jacket i of the same cloth reaching down to the knee and bound round the waist with a woollen cord. on. their heads they wore a round cap with flaps turned  up behind and in front with a cloth edging of a dif . ferent colour. the women instead of trowsqs wear a wrapper in the form of a petticoat  the upper gar ment is nearly the same with that of the qen  but rather finer in teltture and of different colours of which red appeared the fakouri te and predominant. ome of them wear small conical caps others have a piece of cloth round the head in the shape of a turban. their.necks ears and noses re coirered with a profusion of rings various ornaments of beads with trinkets .in gold and silver little adapted td  their appearance or to the coarseness of tb pst of their apparel. some of the children were actually tottering under the weight of these costly',\n",
       " 'tained its full size and the kernel had begun to ac quire a consistence. along the sides of the road particularly in the vicinity af rivulets were great numbers of the bambu reed called riqal. some of them grew to a tapering height of thirty or thirty five feet and are used by the inhabitants in the thatching of houses and for mats. the soil of these hills was various  in some parts clayey in others gravelly  but in general of a fine rich earth producing plants and flowers too numer ous to be minutely examined or described. we met with a few plants of asparagus and wild lavender but the strawberries more particularly engaged our attention. they were dispersed in large beds in the greatest profusion  and the species found here differ ed fron the common kind being much lager strangly dimpled and of a mottled colour white and red. the natives to the westward call the strawberry caphtcl a but in these hills it is known by the name of boinda. the flavour of those tve found today was very superior to any we had yet tasted many of them fell little short of the europe fruit. the gurchdli jmmdar proved true to his word  for in the evenkg he arrived with a1l.our baggage. 54.4 survey of the gakges. 4th. therm. 57. marched to panhai a large vil lage containing fifty or sixty houses and situated about midway up the hill in a large indented scoop of the mountain in which several other small villages are disposed  and the adjaceht lands well cultivated. the march today is calculated at twelve hill chs and could not be less than thirteen or fourteen miles the badness and inequalities of the road rendered the journey very fatiguing and the greater the baggage remained in the rear. part of the forests through which we passed this day abounded in hazel walnut and horse chesnut trees while the upper part of the mountains were covered with a different species of the fir called deodcir. among the productions of this forest was a species of oak called khairzi. the leaves oval firm and in dented the young ones only pointed of a bright glossy green above and rather lighter below. the stem rises straight to a considerable height before it i branches. the acorns are now ripe and of',\n",
       " 'in the month af puush. from hence thecity of ahda appears directly op posite bearing s. 35 e. distant about three miles. . oed. herm. 73. this euqeing we. received thk visit .of bhis sah who had left almlru at tn . oclock in the forenoon bnt a heavy fall of rain and  560 survey of the ganges. the consequent swelling of the causila which he . had to cross retarded his progress so much that he did not reach our encampment till five oclock. he is a tall stout good looking man about sixty years of age although frorn his healthy appearance he might be supposed at least ten years younger. his manners are affable and conciliatory  he talks the hindustdnt language tolerably well but he has a quick mode of expression and a sinsular impediment in his speech which renders it rather difficlilt at times to comprehend him. he is the elder brother of hasti dhal and uncle to the young raja of nupdl. about the time that ran behadur went to rmares bhlm s ah was detached op some po litical mission to calcuttu where he acquired an insight into the customs and manners of europeans for whom he professes to entertain a great partiality. he is considered by the natives as a man of univer sal talents  and is said to have a great turn for me chanics to the practical part of which he devotes most of his leisure. from the ascendency which the party of the tuppas had gained in the counsels of the young raja of gzrchha he had been superseded in his office by rewart sinh kua a chief of that party. as bhm sah is more esteemed in his public situa tion than apy other chief his removal appeared to cause general regret. 23d. them. 7a0. marched to chupra. our road lay at first over successive small ridges be tween which were numerous streams and water courses  and the remainder was a continued de scent to baghar ghat on the banks af the cazc silu. the breadth of the stream is twentyfive or thirty yards and the current very rapid. there being no ford we were detained for a consi derable time in collecting from the neighbouring . .6ubvy or thb 6angei. 56 1 .yillage .tnwia or tumbrshs .which are large gourds by means of which the']"
      ]
     },
     "execution_count": 44,
     "metadata": {},
     "output_type": "execute_result"
    }
   ],
   "source": [
    "arr = list()\n",
    "for ind, word in enumerate(text):\n",
    "    if word[:6] == s:\n",
    "        ind1 = max(0, ind-200)\n",
    "        ind2 = min(ind+200, len(text))\n",
    "        print(ind1, ind2)\n",
    "    \n",
    "        x = text[ind1:ind2]\n",
    "        x = ' '.join(map(str, x))\n",
    "        arr.append(x)\n",
    "arr"
   ]
  },
  {
   "cell_type": "code",
   "execution_count": 45,
   "metadata": {},
   "outputs": [
    {
     "name": "stdout",
     "output_type": "stream",
     "text": [
      "fair. the chutra is a man about fortyfive or fop tysix years of age of middle stature and rather corpulent. his countenance is pleasing and his manners very conciliatory in his waist he wore a 1arg.e curved knife with a plain ebony handle the sheath mounted with gold. most of the chiefs about him were armed with weapons of the same ahape but mounted with silver. survey of tbe ganges. 46 1 on the following morning hasti dhal re turned our visit and the subject of our journey was again resumed. in the course of conversation he suggested that the route to gagotri by the way of srinagar would be very circuitous and could not be completed in less than a month and a half whereas by making gangotrf our first object we might return by srbugar in one month. by this arrangement we had the advantage of comprehend ing the whole circle of the places we wished to visit within the limits of a two months tour leaving us one month for the performance of the journey to bhadriadth. the chawtra staid but a sbrt time when he took his leave we presented him with a few articles of european minufacture with which he appeared highly gratified. the tenth of april being the purbf or last day of bathing the crowds of people were immense every avenue to the ghat was completely choaked up and the flight of steps leading to the water poured down from the top such a constant succession of fresh comers that the lower tiers were ugable to resist the impetus and were involuntarily hurried into the stream. the fair however concluded without any troubles or disturbance to the great surprise and satisfaction of numbers who were accustomed to consider bloodshed and murder in separable from the cumbha mdla as for many ages past these duodecennial periods have been marked with some fatal catastrophe. a very salu tary regulation was enforced by our police prohi biting any weapons being worn or carried at the fair guards were posted at the different avenues to receive the arms of the passengers a ticket was placed on each and a corresponding one given to the owner the arms were returned on the ticket being produced. 462 survey of the ganges. this arrangement had the desired effect for the utmost tranquillity prevailed  and from the content and satisfaction\n"
     ]
    }
   ],
   "source": [
    "for i in arr:\n",
    "    print(i)\n",
    "    break"
   ]
  },
  {
   "cell_type": "code",
   "execution_count": null,
   "metadata": {},
   "outputs": [],
   "source": []
  }
 ],
 "metadata": {
  "kernelspec": {
   "display_name": "Python 3",
   "language": "python",
   "name": "python3"
  },
  "language_info": {
   "codemirror_mode": {
    "name": "ipython",
    "version": 3
   },
   "file_extension": ".py",
   "mimetype": "text/x-python",
   "name": "python",
   "nbconvert_exporter": "python",
   "pygments_lexer": "ipython3",
   "version": "3.8.10"
  },
  "orig_nbformat": 4
 },
 "nbformat": 4,
 "nbformat_minor": 2
}
